{
 "cells": [
  {
   "cell_type": "markdown",
   "metadata": {},
   "source": [
    "# Лабораторне заняття №2\n",
    "Знайомство з бібліотекою **NumPy**."
   ]
  },
  {
   "cell_type": "code",
   "execution_count": 1,
   "metadata": {
    "collapsed": true
   },
   "outputs": [],
   "source": [
    "import numpy as np"
   ]
  },
  {
   "cell_type": "markdown",
   "metadata": {},
   "source": [
    "## 1 Огляд функцій випадкового вибору"
   ]
  },
  {
   "cell_type": "markdown",
   "metadata": {},
   "source": [
    "### 1.1 Функція *choice*\n",
    "Для детальної інформації див. [документацію](https://docs.scipy.org/doc/numpy-1.14.1/reference/generated/numpy.random.choice.html)."
   ]
  },
  {
   "cell_type": "code",
   "execution_count": 2,
   "metadata": {},
   "outputs": [
    {
     "name": "stdout",
     "output_type": "stream",
     "text": [
      "['2' 'bottom' 'top' '4.5' 'top' '4.5' '2' 'top' 'top' 'top']\n"
     ]
    }
   ],
   "source": [
    "a = [\"top\", 2, \"bottom\", 4.5]\n",
    "size = 10\n",
    "probs = [0.4, 0.2, 0.1, 0.3]\n",
    "replace = True\n",
    "print(np.random.choice(a, size=size, replace=replace, p=probs))"
   ]
  },
  {
   "cell_type": "markdown",
   "metadata": {},
   "source": [
    "Згенеруйте одну випадкову цифру, вважаючи їх рівноймовірними."
   ]
  },
  {
   "cell_type": "code",
   "execution_count": 3,
   "metadata": {},
   "outputs": [
    {
     "name": "stdout",
     "output_type": "stream",
     "text": [
      "[0 1 2 3 4 5 6 7 8 9]\n",
      "[0]\n"
     ]
    }
   ],
   "source": [
    "# Місце для Вашого коду\n",
    "import numpy as np\n",
    "number=np.arange(0, 10, 1)\n",
    "print(number)\n",
    "print(np.random.choice(number, size=1, replace=False))\n"
   ]
  },
  {
   "cell_type": "markdown",
   "metadata": {},
   "source": [
    "Згенеруйте випадкову матрицю $4 \\times 6$ із рівноймовірних цифр."
   ]
  },
  {
   "cell_type": "code",
   "execution_count": 4,
   "metadata": {},
   "outputs": [
    {
     "name": "stdout",
     "output_type": "stream",
     "text": [
      "[0 1 2 3 4 5 6 7 8 9]\n",
      "[[3 5 3 9 1 4]\n",
      " [5 7 8 8 2 7]\n",
      " [8 3 8 8 9 6]\n",
      " [4 6 7 6 1 7]]\n"
     ]
    }
   ],
   "source": [
    "# Місце для Вашого коду\n",
    "number=np.arange(0, 10, 1)\n",
    "print(number)\n",
    "mas=(np.random.choice(number, size=24, replace=True))\n",
    "mas.shape=(4,6)\n",
    "print(mas)\n"
   ]
  },
  {
   "cell_type": "markdown",
   "metadata": {},
   "source": [
    "### 1.2 Функція *randint*\n",
    "Для детальної інформації див. [документацію](https://docs.scipy.org/doc/numpy-1.14.1/reference/generated/numpy.random.randint.html)."
   ]
  },
  {
   "cell_type": "code",
   "execution_count": 5,
   "metadata": {},
   "outputs": [
    {
     "name": "stdout",
     "output_type": "stream",
     "text": [
      "[3 1 4 2 1 4 1 1 0 4]\n"
     ]
    }
   ],
   "source": [
    "low = 0\n",
    "high = 5\n",
    "size = 10\n",
    "print(np.random.randint(low=low, high=high, size=size))"
   ]
  },
  {
   "cell_type": "markdown",
   "metadata": {},
   "source": [
    "Згенеруйте одну випадкову цифру."
   ]
  },
  {
   "cell_type": "code",
   "execution_count": 6,
   "metadata": {},
   "outputs": [
    {
     "name": "stdout",
     "output_type": "stream",
     "text": [
      "[4]\n"
     ]
    }
   ],
   "source": [
    "# Місце для Вашого коду\n",
    "low = 0\n",
    "high = 10\n",
    "size = 1\n",
    "print(np.random.randint(low=low, high=high, size=size))\n"
   ]
  },
  {
   "cell_type": "markdown",
   "metadata": {},
   "source": [
    "Згенеруйте випадкову матрицю $4 \\times 5$ із двоцифрових чисел."
   ]
  },
  {
   "cell_type": "code",
   "execution_count": 7,
   "metadata": {},
   "outputs": [
    {
     "name": "stdout",
     "output_type": "stream",
     "text": [
      "[[6 2 2 7 6]\n",
      " [7 5 8 9 2]\n",
      " [6 7 4 1 0]\n",
      " [4 4 7 1 6]]\n"
     ]
    }
   ],
   "source": [
    "# Місце для Вашого коду\n",
    "low = 0\n",
    "high = 10\n",
    "size = (4,5)\n",
    "print(np.random.randint(low=low, high=high, size=size))\n"
   ]
  },
  {
   "cell_type": "markdown",
   "metadata": {},
   "source": [
    "### 1.3 Функція *sample*\n",
    "Для детальної інформації див. [документацію](https://docs.scipy.org/doc/numpy-1.14.1/reference/generated/numpy.random.sample.html)."
   ]
  },
  {
   "cell_type": "code",
   "execution_count": 8,
   "metadata": {},
   "outputs": [
    {
     "name": "stdout",
     "output_type": "stream",
     "text": [
      "0.3369603119037976\n"
     ]
    }
   ],
   "source": [
    "size = None\n",
    "print(np.random.sample(size=size))"
   ]
  },
  {
   "cell_type": "markdown",
   "metadata": {},
   "source": [
    "Згенеруйте випадкову матрицю $3 \\times 4$ із чисел з інтервалу $[0, 1)$."
   ]
  },
  {
   "cell_type": "code",
   "execution_count": 8,
   "metadata": {},
   "outputs": [
    {
     "name": "stdout",
     "output_type": "stream",
     "text": [
      "[[0.83027649 0.33700586 0.38003342 0.27849795]\n",
      " [0.13335043 0.36138452 0.77618136 0.44558383]\n",
      " [0.80076455 0.5797459  0.1844296  0.1429935 ]]\n"
     ]
    }
   ],
   "source": [
    "# Місце для Вашого коду\n",
    "size=(3,4)\n",
    "print(np.random.sample(size=size))\n"
   ]
  },
  {
   "cell_type": "markdown",
   "metadata": {},
   "source": [
    "Згенеруйте 10 випадкових чисел з інтервалу $[a, b)$."
   ]
  },
  {
   "cell_type": "code",
   "execution_count": 10,
   "metadata": {
    "collapsed": true
   },
   "outputs": [],
   "source": [
    "a = 3\n",
    "b = 5"
   ]
  },
  {
   "cell_type": "code",
   "execution_count": 9,
   "metadata": {},
   "outputs": [
    {
     "name": "stdout",
     "output_type": "stream",
     "text": [
      "[4.84931304 4.72057595 3.01859338 4.76268689 3.05333324 3.79419996\n",
      " 3.25553256 4.96859136 3.13296321 4.01542557]\n"
     ]
    }
   ],
   "source": [
    "# Місце для Вашого коду\n",
    "size=10\n",
    "k=2*np.random.sample(size=size)+3\n",
    "print(k)\n"
   ]
  },
  {
   "cell_type": "markdown",
   "metadata": {},
   "source": [
    "### 1.4 Функція *shuffle*\n",
    "Для детальної інформації див. [документацію](https://docs.scipy.org/doc/numpy-1.14.1/reference/generated/numpy.random.shuffle.html)."
   ]
  },
  {
   "cell_type": "code",
   "execution_count": 12,
   "metadata": {},
   "outputs": [
    {
     "name": "stdout",
     "output_type": "stream",
     "text": [
      "[9 5 3 7 8 1 0 2 6 4]\n"
     ]
    }
   ],
   "source": [
    "x = np.arange(10)\n",
    "np.random.shuffle(x)\n",
    "print(x)"
   ]
  },
  {
   "cell_type": "markdown",
   "metadata": {},
   "source": [
    "Перетасуйте матрицю $M$."
   ]
  },
  {
   "cell_type": "code",
   "execution_count": 13,
   "metadata": {},
   "outputs": [
    {
     "name": "stdout",
     "output_type": "stream",
     "text": [
      "[[ 0  1  2  3  4]\n",
      " [ 5  6  7  8  9]\n",
      " [10 11 12 13 14]\n",
      " [15 16 17 18 19]]\n"
     ]
    }
   ],
   "source": [
    "M = np.arange(20).reshape((4, 5))\n",
    "print(M)"
   ]
  },
  {
   "cell_type": "code",
   "execution_count": 17,
   "metadata": {},
   "outputs": [
    {
     "name": "stdout",
     "output_type": "stream",
     "text": [
      "[[10 11 12 13 14]\n",
      " [15 16 17 18 19]\n",
      " [ 5  6  7  8  9]\n",
      " [ 0  1  2  3  4]]\n",
      "[[13 18  8  3]\n",
      " [10 15  5  0]\n",
      " [11 16  6  1]\n",
      " [14 19  9  4]\n",
      " [12 17  7  2]]\n"
     ]
    }
   ],
   "source": [
    "# Місце для Вашого коду\n",
    "M = np.arange(20).reshape((4, 5))\n",
    "np.random.shuffle(M)\n",
    "print(M)\n",
    "Mt=np.transpose(M) \n",
    "np.random.shuffle(Mt)\n",
    "print(Mt)\n"
   ]
  },
  {
   "cell_type": "markdown",
   "metadata": {},
   "source": [
    "## 2 Відтворюваність результатів\n",
    "Можна задати початкове значення для генератора. Це зафіксує \"випадкову\" послідовність."
   ]
  },
  {
   "cell_type": "code",
   "execution_count": 15,
   "metadata": {
    "collapsed": true
   },
   "outputs": [],
   "source": [
    "np.random.seed(42)"
   ]
  },
  {
   "cell_type": "code",
   "execution_count": 16,
   "metadata": {},
   "outputs": [
    {
     "name": "stdout",
     "output_type": "stream",
     "text": [
      "6\n"
     ]
    }
   ],
   "source": [
    "print(np.random.randint(10))"
   ]
  },
  {
   "cell_type": "code",
   "execution_count": 17,
   "metadata": {},
   "outputs": [
    {
     "name": "stdout",
     "output_type": "stream",
     "text": [
      "3\n"
     ]
    }
   ],
   "source": [
    "print(np.random.randint(10))"
   ]
  },
  {
   "cell_type": "code",
   "execution_count": 18,
   "metadata": {},
   "outputs": [
    {
     "name": "stdout",
     "output_type": "stream",
     "text": [
      "6\n",
      "3\n"
     ]
    }
   ],
   "source": [
    "np.random.seed(42)\n",
    "print(np.random.randint(10))\n",
    "print(np.random.randint(10))"
   ]
  },
  {
   "cell_type": "code",
   "execution_count": 19,
   "metadata": {},
   "outputs": [
    {
     "name": "stdout",
     "output_type": "stream",
     "text": [
      "[6 3 7 4 6 9 2 6 7 4]\n",
      "['l' 'l' 'l' 'b' 'r' 't' 'r' 'l' 'l' 'r']\n",
      "[6 3 7 4 6 9 2 6 7 4]\n",
      "['l' 'l' 'l' 'b' 'r' 't' 'r' 'l' 'l' 'r']\n"
     ]
    }
   ],
   "source": [
    "np.random.seed(42)\n",
    "print(np.random.randint(10, size=10))\n",
    "print(np.random.choice(['t', 'r', 'b', 'l'], size=10))\n",
    "np.random.seed(42)\n",
    "print(np.random.randint(10, size=10))\n",
    "print(np.random.choice(['t', 'r', 'b', 'l'], size=10))"
   ]
  },
  {
   "cell_type": "markdown",
   "metadata": {},
   "source": [
    "## 3 Монетка"
   ]
  },
  {
   "cell_type": "markdown",
   "metadata": {},
   "source": [
    "### 3.1 За допомогою функції *choice*"
   ]
  },
  {
   "cell_type": "code",
   "execution_count": 22,
   "metadata": {},
   "outputs": [
    {
     "name": "stdout",
     "output_type": "stream",
     "text": [
      "['H' 'H' 'T' 'H' 'T' 'T' 'H' 'T' 'H' 'H']\n"
     ]
    }
   ],
   "source": [
    "p=0.5\n",
    "n=10\n",
    "tosses=np.random.choice([\"H\",\"T\"],p=[p,1-p], size=n)\n",
    "print(tosses)"
   ]
  },
  {
   "cell_type": "code",
   "execution_count": 23,
   "metadata": {},
   "outputs": [
    {
     "name": "stdout",
     "output_type": "stream",
     "text": [
      "6 heads and 4 tails\n"
     ]
    }
   ],
   "source": [
    "heads = list(tosses).count(\"H\")\n",
    "tails = list(tosses).count(\"T\")\n",
    "\n",
    "print(\"{} heads and {} tails\".format(heads,tails))"
   ]
  },
  {
   "cell_type": "markdown",
   "metadata": {},
   "source": [
    "Просимулюйте $100$ підкидань монетки та підрахуйте кількість кожної із сторін."
   ]
  },
  {
   "cell_type": "code",
   "execution_count": 18,
   "metadata": {},
   "outputs": [
    {
     "name": "stdout",
     "output_type": "stream",
     "text": [
      "['T' 'H' 'H' 'T' 'T' 'T' 'H' 'T' 'T' 'H' 'T' 'H' 'T' 'T' 'H' 'H' 'T' 'T'\n",
      " 'H' 'H' 'T' 'H' 'T' 'T' 'T' 'T' 'T' 'H' 'H' 'H' 'T' 'T' 'T' 'T' 'H' 'T'\n",
      " 'H' 'H' 'H' 'H' 'H' 'H' 'T' 'T' 'H' 'T' 'H' 'H' 'H' 'T' 'H' 'T' 'T' 'T'\n",
      " 'T' 'H' 'T' 'T' 'H' 'H' 'H' 'T' 'H' 'T' 'H' 'H' 'H' 'T' 'T' 'H' 'H' 'T'\n",
      " 'H' 'H' 'H' 'H' 'T' 'H' 'H' 'T' 'H' 'H' 'T' 'T' 'H' 'T' 'T' 'H' 'T' 'T'\n",
      " 'H' 'H' 'H' 'T' 'T' 'H' 'T' 'H' 'H' 'T']\n",
      "51 heads and 49 tails\n"
     ]
    }
   ],
   "source": [
    "# Місце для Вашого коду\n",
    "p=0.5\n",
    "n=100\n",
    "tosses=np.random.choice([\"H\",\"T\"],p=[p,1-p], size=n)\n",
    "print(tosses)\n",
    "heads = list(tosses).count(\"H\")\n",
    "tails = list(tosses).count(\"T\")\n",
    "\n",
    "print(\"{} heads and {} tails\".format(heads,tails))\n"
   ]
  },
  {
   "cell_type": "markdown",
   "metadata": {},
   "source": [
    "### 3.2 За допомогою функції *randint*\n",
    "Реалізуйте симуляцію підкидань монетки за допомогою функції **randint**. Просимулюйте $100$ підкидань монетки та підрахуйте кількість кожної із сторін."
   ]
  },
  {
   "cell_type": "code",
   "execution_count": 19,
   "metadata": {},
   "outputs": [
    {
     "name": "stdout",
     "output_type": "stream",
     "text": [
      "[0 0 0 0 0 1 0 1 0 0 0 1 0 0 0 1 1 1 0 0 1 1 0 0 1 1 1 0 1 0 1 0 0 0 1 0 0\n",
      " 1 1 1 1 0 0 0 1 1 0 1 1 0 0 0 1 0 1 1 1 1 1 0 0 0 0 1 1 1 1 0 1 1 0 1 1 0\n",
      " 0 0 1 1 1 1 1 1 0 1 0 1 1 0 0 0 1 0 1 0 1 1 1 0 1 0]\n",
      "49 heads and 51 tails\n"
     ]
    }
   ],
   "source": [
    "# Місце для Вашого коду\n",
    "low = 0\n",
    "high = 2\n",
    "size = 100\n",
    "a=(np.random.randint(low=low, high=high, size=size))\n",
    "print(a)\n",
    "heads = list(a).count(0)\n",
    "tails = list(a).count(1)\n",
    "\n",
    "print(\"{} heads and {} tails\".format(heads,tails))\n"
   ]
  },
  {
   "cell_type": "markdown",
   "metadata": {},
   "source": [
    "### 3.3 За допомогою функції *sample*\n",
    "Реалізуйте симуляцію підкидань монетки за допомогою функції **sample**. Просимулюйте $100$ підкидань монетки та підрахуйте кількість кожної із сторін."
   ]
  },
  {
   "cell_type": "code",
   "execution_count": 20,
   "metadata": {},
   "outputs": [
    {
     "name": "stdout",
     "output_type": "stream",
     "text": [
      "[0.21391259 0.80936893 0.19800154 0.12865395 0.57649625 0.00449989\n",
      " 0.35368863 0.54789551 0.61591957 0.96453641 0.86577997 0.41859425\n",
      " 0.40437738 0.35328163 0.67510829 0.13013703 0.23742804 0.98823519\n",
      " 0.13672224 0.52364137 0.78487555 0.56375188 0.44142807 0.45304899\n",
      " 0.09698723 0.34533663 0.32371986 0.74484471 0.59795838 0.59725033\n",
      " 0.94399632 0.02787011 0.91447719 0.5124815  0.51436452 0.30177866\n",
      " 0.69866059 0.35869746 0.33029024 0.75554233 0.01705823 0.5787083\n",
      " 0.17183594 0.94905508 0.99727753 0.15033138 0.31744936 0.23107401\n",
      " 0.6693292  0.81191885 0.27934789 0.03063866 0.54805767 0.99074798\n",
      " 0.18716921 0.69754146 0.46313618 0.77307705 0.1753158  0.03014099\n",
      " 0.12540184 0.8342355  0.76391582 0.51323505 0.65678016 0.05883782\n",
      " 0.77878346 0.98025084 0.16122668 0.16553937 0.24992468 0.94433621\n",
      " 0.43210364 0.39412427 0.52041929 0.05108943 0.82406717 0.92426696\n",
      " 0.44338458 0.14131849 0.1668461  0.50609318 0.1036918  0.92037169\n",
      " 0.67727578 0.95329734 0.99803847 0.55976839 0.10641991 0.55767791\n",
      " 0.07235695 0.2109323  0.62165297 0.31793377 0.35780894 0.88053356\n",
      " 0.79900287 0.84940489 0.7495484  0.11357755]\n",
      "['T' 'H' 'T' 'T' 'H' 'T' 'T' 'H' 'H' 'H' 'H' 'T' 'T' 'T' 'H' 'T' 'T' 'H'\n",
      " 'T' 'H' 'H' 'H' 'T' 'T' 'T' 'T' 'T' 'H' 'H' 'H' 'H' 'T' 'H' 'H' 'H' 'T'\n",
      " 'H' 'T' 'T' 'H' 'T' 'H' 'T' 'H' 'H' 'T' 'T' 'T' 'H' 'H' 'T' 'T' 'H' 'H'\n",
      " 'T' 'H' 'T' 'H' 'T' 'T' 'T' 'H' 'H' 'H' 'H' 'T' 'H' 'H' 'T' 'T' 'T' 'H'\n",
      " 'T' 'T' 'H' 'T' 'H' 'H' 'T' 'T' 'T' 'H' 'T' 'H' 'H' 'H' 'H' 'H' 'T' 'H'\n",
      " 'T' 'T' 'H' 'T' 'T' 'H' 'H' 'H' 'H' 'T']\n"
     ]
    }
   ],
   "source": [
    "# Місце для Вашого коду\n",
    "size =100\n",
    "import numpy as np\n",
    "a=(np.random.sample(size=size))\n",
    "\n",
    "print(a)\n",
    "#b=a>0.5\n",
    "#print(b)\n",
    "def f (a):\n",
    "   if a>0.5:\n",
    "        c='H'\n",
    "   else:\n",
    "        c='T'\n",
    "   return(c)\n",
    "f1=np.vectorize(f)\n",
    "print(f1(a))\n"
   ]
  },
  {
   "cell_type": "markdown",
   "metadata": {},
   "source": [
    "### 3.4 Задача\n",
    "Знайдіть емпіричну ймовірність герба у симуляціях підкидання монетки $n = 10, 50, 100, 250, 500, 1000, 2500, 5000, 10000$ разів."
   ]
  },
  {
   "cell_type": "code",
   "execution_count": 21,
   "metadata": {},
   "outputs": [
    {
     "name": "stdout",
     "output_type": "stream",
     "text": [
      "10 0.6\n",
      "50 0.62\n",
      "100 0.49\n",
      "250 0.536\n",
      "500 0.49\n",
      "1000 0.496\n",
      "2500 0.5004\n",
      "5000 0.4938\n",
      "10000 0.4973\n"
     ]
    }
   ],
   "source": [
    "# Місце для Вашого коду\n",
    "low = 0\n",
    "high = 2\n",
    "list6=[10,50,100,250,500,1000,2500,5000,10000]\n",
    "for i in list6:\n",
    "    size = i\n",
    "    a=(np.random.randint(low=low, high=high, size=size))\n",
    "    #print(a)\n",
    "    heads = list(a).count(0)\n",
    "    tails = list(a).count(1)\n",
    "    print(i, tails/(heads+tails))\n"
   ]
  },
  {
   "cell_type": "markdown",
   "metadata": {},
   "source": [
    "## 4 Гральний кубик\n",
    "### 4.1 Реалізація симуляцій\n",
    "Реалізуйте симуляцію кидків грального кубика за допомогою функції **???**. Просимулюйте $60$ кидків кубика та підрахуйте кількість кожної із сторін."
   ]
  },
  {
   "cell_type": "code",
   "execution_count": 23,
   "metadata": {},
   "outputs": [
    {
     "name": "stdout",
     "output_type": "stream",
     "text": [
      "[2 4 6 3 2 1 6 1 3 2 4 5 6 6 2 5 6 2 2 1 4 4 2 2 5 6 2 6 2 2 1 6 2 4 5 2 4\n",
      " 5 4 2 5 1 3 6 6 1 3 6 2 5 1 6 2 3 3 4 4 5 5 3 4 4 5 3 2 5 6 1 5 4 3 5 6 3\n",
      " 6 2 6 4 2 6 1 2 4 1 2 3 1 6 4 5 2 3 1 4 2 5 5 4 5 6]\n",
      "{1: 12, 2: 23, 3: 12, 4: 17, 5: 17, 6: 19}\n"
     ]
    }
   ],
   "source": [
    "# Місце для Вашого коду\n",
    "low = 1\n",
    "high = 7\n",
    "size = 100\n",
    "a=(np.random.randint(low=low, high=high, size=size))\n",
    "print(a)\n",
    "d=dict()\n",
    "for i in range (1, 7):\n",
    "    d_= list(a).count(i)\n",
    "    d.update({i:d_})\n",
    "\n",
    "\n",
    "print(d)\n"
   ]
  },
  {
   "cell_type": "markdown",
   "metadata": {},
   "source": [
    "### 4.2 Задача\n",
    "Знайдіть емпіричну ймовірність кожної сторони у симуляціях кидання грального кубика $n = 10, 50, 100, 250, 500, 1000, 2500, 5000, 10000$ разів."
   ]
  },
  {
   "cell_type": "code",
   "execution_count": 22,
   "metadata": {},
   "outputs": [
    {
     "name": "stdout",
     "output_type": "stream",
     "text": [
      "{1: 2, 2: 2, 3: 1, 4: 2, 5: 0, 6: 2} {1: 0.2, 2: 0.2, 3: 0.1, 4: 0.2, 5: 0.0, 6: 0.2}\n",
      "{1: 8, 2: 5, 3: 3, 4: 8, 5: 6, 6: 7} {1: 0.16, 2: 0.1, 3: 0.06, 4: 0.16, 5: 0.12, 6: 0.14}\n",
      "{1: 17, 2: 10, 3: 15, 4: 9, 5: 13, 6: 16} {1: 0.17, 2: 0.1, 3: 0.15, 4: 0.09, 5: 0.13, 6: 0.16}\n",
      "{1: 32, 2: 35, 3: 31, 4: 33, 5: 36, 6: 38} {1: 0.128, 2: 0.14, 3: 0.124, 4: 0.132, 5: 0.144, 6: 0.152}\n",
      "{1: 64, 2: 64, 3: 93, 4: 64, 5: 86, 6: 65} {1: 0.128, 2: 0.128, 3: 0.186, 4: 0.128, 5: 0.172, 6: 0.13}\n",
      "{1: 139, 2: 136, 3: 142, 4: 139, 5: 141, 6: 140} {1: 0.139, 2: 0.136, 3: 0.142, 4: 0.139, 5: 0.141, 6: 0.14}\n",
      "{1: 382, 2: 320, 3: 336, 4: 383, 5: 344, 6: 379} {1: 0.1528, 2: 0.128, 3: 0.1344, 4: 0.1532, 5: 0.1376, 6: 0.1516}\n",
      "{1: 738, 2: 664, 3: 697, 4: 667, 5: 703, 6: 742} {1: 0.1476, 2: 0.1328, 3: 0.1394, 4: 0.1334, 5: 0.1406, 6: 0.1484}\n",
      "{1: 1426, 2: 1443, 3: 1444, 4: 1398, 5: 1403, 6: 1438} {1: 0.1426, 2: 0.1443, 3: 0.1444, 4: 0.1398, 5: 0.1403, 6: 0.1438}\n"
     ]
    }
   ],
   "source": [
    "# Місце для Вашого коду\n",
    "low = 0\n",
    "high = 7\n",
    "list7=[10,50,100,250,500,1000,2500,5000,10000]\n",
    "for i in list7:\n",
    "    size = i\n",
    "    a=(np.random.randint(low=low, high=high, size=size))\n",
    "    d=dict()\n",
    "    probability={}\n",
    "    for j in range (1, 7):\n",
    "        d_= list(a).count(j)\n",
    "        d.update({j:d_})\n",
    "        d_p=d_/i\n",
    "        probability.update({j:d_p})\n",
    "    print(d, probability)\n"
   ]
  },
  {
   "cell_type": "markdown",
   "metadata": {},
   "source": [
    "## 5 Колода карт\n",
    "### 5.1 Реалізація"
   ]
  },
  {
   "cell_type": "code",
   "execution_count": 30,
   "metadata": {},
   "outputs": [
    {
     "name": "stdout",
     "output_type": "stream",
     "text": [
      "[('3', '♣'), ('3', '♠'), ('3', '♡'), ('3', '♢'), ('7', '♣'), ('7', '♠'), ('7', '♡'), ('7', '♢'), ('9', '♣'), ('9', '♠'), ('9', '♡'), ('9', '♢'), ('5', '♣'), ('5', '♠'), ('5', '♡'), ('5', '♢'), ('6', '♣'), ('6', '♠'), ('6', '♡'), ('6', '♢'), ('J', '♣'), ('J', '♠'), ('J', '♡'), ('J', '♢'), ('4', '♣'), ('4', '♠'), ('4', '♡'), ('4', '♢'), ('Q', '♣'), ('Q', '♠'), ('Q', '♡'), ('Q', '♢'), ('8', '♣'), ('8', '♠'), ('8', '♡'), ('8', '♢'), ('10', '♣'), ('10', '♠'), ('10', '♡'), ('10', '♢'), ('1', '♣'), ('1', '♠'), ('1', '♡'), ('1', '♢'), ('2', '♣'), ('2', '♠'), ('2', '♡'), ('2', '♢'), ('K', '♣'), ('K', '♠'), ('K', '♡'), ('K', '♢')]\n"
     ]
    }
   ],
   "source": [
    "# Визначимо номінали, масті та карти\n",
    "Ranks = {'1', '2', '3', '4', '5', '6', '7', '8', '9', '10', 'J', 'Q', 'K'}\n",
    "Suits = {'♢', '♠', '♣', '♡'}\n",
    "# Створимо колоду карт\n",
    "Cards = [(Rank, Suit) for Rank in Ranks for Suit in Suits]\n",
    "print(Cards)"
   ]
  },
  {
   "cell_type": "code",
   "execution_count": 31,
   "metadata": {},
   "outputs": [
    {
     "name": "stdout",
     "output_type": "stream",
     "text": [
      "3♣, 3♠, 3♡, 3♢, 7♣, 7♠, 7♡, 7♢, 9♣, 9♠, 9♡, 9♢, 5♣, 5♠, 5♡, 5♢, 6♣, 6♠, 6♡, 6♢, J♣, J♠, J♡, J♢, 4♣, 4♠, 4♡, 4♢, Q♣, Q♠, Q♡, Q♢, 8♣, 8♠, 8♡, 8♢, 10♣, 10♠, 10♡, 10♢, 1♣, 1♠, 1♡, 1♢, 2♣, 2♠, 2♡, 2♢, K♣, K♠, K♡, K♢\n"
     ]
    }
   ],
   "source": [
    "# Інший вівід результату\n",
    "print(', '.join([(card[0] + card[1]) for card in Cards]))"
   ]
  },
  {
   "cell_type": "code",
   "execution_count": 32,
   "metadata": {},
   "outputs": [
    {
     "name": "stdout",
     "output_type": "stream",
     "text": [
      "♣3, ♣7, ♣9, ♣5, ♣6, ♣J, ♣4, ♣Q, ♣8, ♣10, ♣1, ♣2, ♣K\n",
      "♠3, ♠7, ♠9, ♠5, ♠6, ♠J, ♠4, ♠Q, ♠8, ♠10, ♠1, ♠2, ♠K\n",
      "♡3, ♡7, ♡9, ♡5, ♡6, ♡J, ♡4, ♡Q, ♡8, ♡10, ♡1, ♡2, ♡K\n",
      "♢3, ♢7, ♢9, ♢5, ♢6, ♢J, ♢4, ♢Q, ♢8, ♢10, ♢1, ♢2, ♢K\n"
     ]
    }
   ],
   "source": [
    "# Або згрупувавши по мастях\n",
    "for suit in Suits:\n",
    "    print(\", \".join([(suit+rank) for rank in Ranks]))"
   ]
  },
  {
   "cell_type": "code",
   "execution_count": 33,
   "metadata": {},
   "outputs": [
    {
     "name": "stdout",
     "output_type": "stream",
     "text": [
      "[('Q', '♠'), ('10', '♡'), ('3', '♡'), ('2', '♠'), ('2', '♣'), ('10', '♢'), ('J', '♡'), ('1', '♢'), ('9', '♡'), ('3', '♣'), ('6', '♡'), ('Q', '♡'), ('K', '♣'), ('8', '♠'), ('J', '♠'), ('7', '♣'), ('K', '♡'), ('8', '♣'), ('5', '♣'), ('Q', '♢'), ('J', '♣'), ('J', '♢'), ('4', '♡'), ('1', '♡'), ('5', '♡'), ('5', '♢'), ('1', '♣'), ('1', '♠'), ('9', '♠'), ('10', '♣'), ('9', '♢'), ('2', '♢'), ('6', '♠'), ('Q', '♣'), ('10', '♠'), ('7', '♠'), ('2', '♡'), ('K', '♢'), ('8', '♢'), ('6', '♣'), ('K', '♠'), ('8', '♡'), ('7', '♢'), ('7', '♡'), ('4', '♢'), ('6', '♢'), ('3', '♠'), ('4', '♠'), ('9', '♣'), ('5', '♠'), ('4', '♣'), ('3', '♢')]\n"
     ]
    }
   ],
   "source": [
    "# Перемішаємо колоду\n",
    "np.random.shuffle(Cards)\n",
    "\n",
    "print(Cards)"
   ]
  },
  {
   "cell_type": "markdown",
   "metadata": {},
   "source": [
    "### 5.2 Задача\n",
    "Знайдіть емпіричну ймовірність карти парного числа (2, 4, 6, 8, 10) у симуляціях вибору однієї карти з колоди 52 карт $n = 10, 50, 100, 250, 500, 1000, 2500, 5000, 10000$ разів."
   ]
  },
  {
   "cell_type": "code",
   "execution_count": 24,
   "metadata": {},
   "outputs": [
    {
     "ename": "NameError",
     "evalue": "name 'Cards' is not defined",
     "output_type": "error",
     "traceback": [
      "\u001b[1;31m---------------------------------------------------------------------------\u001b[0m",
      "\u001b[1;31mNameError\u001b[0m                                 Traceback (most recent call last)",
      "\u001b[1;32m<ipython-input-24-00ec829189f7>\u001b[0m in \u001b[0;36m<module>\u001b[1;34m\u001b[0m\n\u001b[0;32m      6\u001b[0m     \u001b[1;32mfor\u001b[0m \u001b[0mj\u001b[0m \u001b[1;32min\u001b[0m \u001b[0mrange\u001b[0m\u001b[1;33m(\u001b[0m\u001b[0mi\u001b[0m\u001b[1;33m)\u001b[0m\u001b[1;33m:\u001b[0m\u001b[1;33m\u001b[0m\u001b[1;33m\u001b[0m\u001b[0m\n\u001b[0;32m      7\u001b[0m \u001b[1;33m\u001b[0m\u001b[0m\n\u001b[1;32m----> 8\u001b[1;33m         \u001b[0mnp\u001b[0m\u001b[1;33m.\u001b[0m\u001b[0mrandom\u001b[0m\u001b[1;33m.\u001b[0m\u001b[0mshuffle\u001b[0m\u001b[1;33m(\u001b[0m\u001b[0mCards\u001b[0m\u001b[1;33m)\u001b[0m\u001b[1;33m\u001b[0m\u001b[1;33m\u001b[0m\u001b[0m\n\u001b[0m\u001b[0;32m      9\u001b[0m         \u001b[0mcard\u001b[0m\u001b[1;33m=\u001b[0m\u001b[0mCards\u001b[0m\u001b[1;33m[\u001b[0m\u001b[1;36m0\u001b[0m\u001b[1;33m]\u001b[0m\u001b[1;33m\u001b[0m\u001b[1;33m\u001b[0m\u001b[0m\n\u001b[0;32m     10\u001b[0m         \u001b[1;32mif\u001b[0m \u001b[0mi\u001b[0m\u001b[1;33m==\u001b[0m\u001b[1;36m10\u001b[0m\u001b[1;33m:\u001b[0m\u001b[0mprint\u001b[0m\u001b[1;33m(\u001b[0m\u001b[0mcard\u001b[0m\u001b[1;33m)\u001b[0m\u001b[1;33m\u001b[0m\u001b[1;33m\u001b[0m\u001b[0m\n",
      "\u001b[1;31mNameError\u001b[0m: name 'Cards' is not defined"
     ]
    }
   ],
   "source": [
    "# Місце для Вашого коду\n",
    "list8=[10,50,100,250,500,1000,2500,5000,10000]\n",
    "par=(2, 4, 6, 8, 10) \n",
    "for i in list8:\n",
    "    n=0\n",
    "    for j in range(i):\n",
    "         \n",
    "        np.random.shuffle(Cards)\n",
    "        card=Cards[0]\n",
    "        if i==10:print(card)\n",
    "        try:\n",
    "            if int(card[0]) in par:\n",
    "                n+=1\n",
    "        except Exception:\n",
    "            pass\n",
    "            \n",
    "    print(i, n, n/i)\n"
   ]
  },
  {
   "cell_type": "markdown",
   "metadata": {},
   "source": [
    "### 5.3 Задача\n",
    "Випадковим чином роздайте колоду з 52 карт чотирьом гравцям (кожному по 13 карт) так, щоб кожен з них мав 4 карти однієї масті та по 3 карти інших мастей. Наприклад, {♣5, ♣10, ♣8, ♣4, ♠4, ♠J, ♠3, ♢Q, ♢7, ♢K, ♡9, ♡1, ♡5}."
   ]
  },
  {
   "cell_type": "code",
   "execution_count": 25,
   "metadata": {},
   "outputs": [
    {
     "name": "stdout",
     "output_type": "stream",
     "text": [
      "player1 [\"('K', '♡')\", \"('10', '♡')\", \"('1', '♡')\", \"('8', '♢')\", \"('7', '♢')\", \"('3', '♢')\", \"('8', '♣')\", \"('6', '♣')\", \"('Q', '♣')\", \"('J', '♠')\", \"('6', '♠')\", \"('1', '♠')\", ('6', '♡')]\n",
      "player2 [\"('9', '♡')\", \"('7', '♡')\", \"('J', '♡')\", \"('4', '♢')\", \"('J', '♢')\", \"('6', '♢')\", \"('10', '♣')\", \"('1', '♣')\", \"('7', '♣')\", \"('7', '♠')\", \"('9', '♠')\", \"('Q', '♠')\", ('10', '♢')]\n",
      "player3 [\"('3', '♡')\", \"('Q', '♡')\", \"('2', '♡')\", \"('K', '♢')\", \"('5', '♢')\", \"('9', '♢')\", \"('K', '♣')\", \"('4', '♣')\", \"('J', '♣')\", \"('10', '♠')\", \"('3', '♠')\", \"('2', '♠')\", ('5', '♣')]\n",
      "player4 [\"('8', '♡')\", \"('4', '♡')\", \"('5', '♡')\", \"('2', '♢')\", \"('1', '♢')\", \"('Q', '♢')\", \"('2', '♣')\", \"('9', '♣')\", \"('3', '♣')\", \"('5', '♠')\", \"('K', '♠')\", \"('4', '♠')\", ('8', '♠')]\n"
     ]
    }
   ],
   "source": [
    "# Місце для Вашого коду\n",
    "Ranks = {'1', '2', '3', '4', '5', '6', '7', '8', '9', '10', 'J', 'Q', 'K'}\n",
    "heart = [(Rank,'♡') for Rank in Ranks]\n",
    "diamonds= [(Rank,'♢') for Rank in Ranks]\n",
    "clubs=[(Rank,'♣') for Rank in Ranks]\n",
    "pikes=[(Rank,'♠') for Rank in Ranks]\n",
    "All_suits=[heart, diamonds, clubs, pikes]\n",
    "player1=[]\n",
    "player2=[]\n",
    "player3=[]\n",
    "player4=[]\n",
    "for j in All_suits:\n",
    "   \n",
    "    np.random.shuffle(j)\n",
    "    for k in range (0, 3):\n",
    "        player1.append(str(j[k]))\n",
    "        player2.append(str(j[k+3]))\n",
    "        player3.append(str(j[k+6]))\n",
    "        player4.append(str(j[k+9]))\n",
    "    np.random.shuffle([heart, diamonds, clubs, pikes])\n",
    "\n",
    "\n",
    "tabble=[player1, player2, player3, player4]\n",
    "q=0\n",
    "for i in tabble:\n",
    "    i.append(All_suits[q][12])\n",
    "    q+=1\n",
    "    print('player'+str(q), i)\n"
   ]
  },
  {
   "cell_type": "markdown",
   "metadata": {},
   "source": [
    "### 5.4 Задача\n",
    "Випадковим чином роздайте колоду з 52 карт чотирьом гравцям (кожному по 13 карт) так, щоб кожен з них мав від 2 до 5 карт кожної масті. Наприклад, {♣5, ♣10, ♣8, ♣4, ♠4, ♠J, ♠3, ♢Q, ♣7, ♢K, ♡9, ♡1, ♡5}."
   ]
  },
  {
   "cell_type": "code",
   "execution_count": 26,
   "metadata": {},
   "outputs": [
    {
     "name": "stdout",
     "output_type": "stream",
     "text": [
      "chance 1\n",
      "player1 [\"('4', '♡')\", \"('5', '♡')\", \"('5', '♢')\", \"('7', '♢')\", \"('5', '♣')\", \"('4', '♣')\", \"('K', '♠')\", \"('1', '♠')\", \"('9', '♠')\", \"('J', '♣')\", \"('K', '♢')\", \"('9', '♢')\", \"('6', '♡')\"]\n",
      "player2 [\"('J', '♡')\", \"('8', '♡')\", \"('Q', '♢')\", \"('4', '♢')\", \"('2', '♣')\", \"('Q', '♣')\", \"('4', '♠')\", \"('8', '♠')\", \"('10', '♣')\", \"('3', '♡')\", \"('9', '♣')\", \"('6', '♢')\", \"('Q', '♠')\"]\n",
      "player3 [\"('Q', '♡')\", \"('K', '♡')\", \"('8', '♢')\", \"('J', '♢')\", \"('8', '♣')\", \"('3', '♣')\", \"('10', '♠')\", \"('3', '♠')\", \"('7', '♡')\", \"('10', '♡')\", \"('2', '♢')\", \"('2', '♠')\", \"('9', '♡')\"]\n",
      "player4 [\"('1', '♡')\", \"('2', '♡')\", \"('1', '♢')\", \"('10', '♢')\", \"('7', '♣')\", \"('1', '♣')\", \"('J', '♠')\", \"('7', '♠')\", \"('3', '♢')\", \"('K', '♣')\", \"('5', '♠')\", \"('6', '♣')\", \"('6', '♠')\"]\n"
     ]
    }
   ],
   "source": [
    "# Місце для Вашого коду\n",
    "Ranks = {'1', '2', '3', '4', '5', '6', '7', '8', '9', '10', 'J', 'Q', 'K'}\n",
    "heart = [(Rank,'♡') for Rank in Ranks]\n",
    "diamonds= [(Rank,'♢') for Rank in Ranks]\n",
    "clubs=[(Rank,'♣') for Rank in Ranks]\n",
    "pikes=[(Rank,'♠') for Rank in Ranks]\n",
    "All_suits=[heart, diamonds, clubs, pikes]\n",
    "player1=[]\n",
    "player2=[]\n",
    "player3=[]\n",
    "player4=[]\n",
    "other=[]\n",
    "for j in All_suits:\n",
    "   \n",
    "    np.random.shuffle(j)\n",
    "    for k in range (0, 2):\n",
    "        player1.append(str(j[k]))\n",
    "        player2.append(str(j[k+2]))\n",
    "        player3.append(str(j[k+4]))\n",
    "        player4.append(str(j[k+6]))\n",
    "    for k in range (8, 13):\n",
    "        other.append(str(j[k]))\n",
    "Flag=False\n",
    "chance=0\n",
    "while Flag==False:\n",
    "    chance+=1\n",
    "    Flag=True\n",
    "    np.random.shuffle(other)\n",
    "    l1=other[0:5]\n",
    "    bubn=0\n",
    "    tref=0\n",
    "    pik=0\n",
    "    cherv=0\n",
    "    for j in l1:\n",
    "        if j[0]=='♠':\n",
    "            pik+=1\n",
    "        elif j[0]=='♣':\n",
    "            tref+=1\n",
    "        elif j[0]=='♢':\n",
    "            bubn+=1\n",
    "        elif j[0]=='♡':\n",
    "            cherv+=1\n",
    "    if max(pik, cherv, bubn, tref)>3:\n",
    "        Flag=False\n",
    "        continue\n",
    "    l2=other[5:10]\n",
    "    bubn=0\n",
    "    tref=0\n",
    "    pik=0\n",
    "    cherv=0\n",
    "    for j in l2:\n",
    "        if j[0]=='♠':\n",
    "            pik+=1\n",
    "        elif j[0]=='♣':\n",
    "            tref+=1\n",
    "        elif j[0]=='♢':\n",
    "            bubn+=1\n",
    "        elif j[0]=='♡':\n",
    "            cherv+=1\n",
    "    if max(pik, cherv, bubn, tref)>3:\n",
    "        Flag=False\n",
    "        continue\n",
    "    l3=other[10:15]\n",
    "    bubn=0\n",
    "    tref=0\n",
    "    pik=0\n",
    "    cherv=0\n",
    "    for j in l3:\n",
    "        if j[0]=='♠':\n",
    "            pik+=1\n",
    "        elif j[0]=='♣':\n",
    "            tref+=1\n",
    "        elif j[0]=='♢':\n",
    "            bubn+=1\n",
    "        elif j[0]=='♡':\n",
    "            cherv+=1\n",
    "    if max(pik, cherv, bubn, tref)>3:\n",
    "        Flag=False\n",
    "        continue\n",
    "    l4=other[15:20]\n",
    "    bubn=0\n",
    "    tref=0\n",
    "    pik=0\n",
    "    cherv=0\n",
    "    for j in l4:\n",
    "        if j[0]=='♠':\n",
    "            pik+=1\n",
    "        elif j[0]=='♣':\n",
    "            tref+=1\n",
    "        elif j[0]=='♢':\n",
    "            bubn+=1\n",
    "        elif j[0]=='♡':\n",
    "            cherv+=1\n",
    "            \n",
    "    if max(pik, cherv, bubn, tref)>3:\n",
    "        Flag=False\n",
    "        continue\n",
    "\n",
    "\n",
    "print('chance', chance)\n",
    "for k in range (0, 5):\n",
    "        player1.append(str(l1[k]))\n",
    "        player2.append(str(l2[k]))\n",
    "        player3.append(str(l3[k]))\n",
    "        player4.append(str(l4[k]))\n",
    "\n",
    "tabble=[player1, player2, player3, player4]\n",
    "q=0\n",
    "ind=[8, 8, 8, 8]\n",
    "for i in tabble:\n",
    "    #for ii in range(0,4):\n",
    "        #low = 0\n",
    "        #high = min(13-len(tabble[q]), 13-ind[ii], 3)+1\n",
    "        #size = 1\n",
    "        #alpha=int(np.random.randint(low=low, high=high, size=size))\n",
    "        #if ii==3:\n",
    "        #    alpha=high\n",
    "        #print(alpha)\n",
    "        #for iii in range(ind[ii], ind[ii]+alpha):\n",
    "        #    i.append(All_suits[ii][iii])\n",
    "        #ind[ii]+=alpha\n",
    "    #take1=\n",
    "    \n",
    "    #i.append(All_suits[q][12])\n",
    "    q+=1\n",
    "    print('player'+str(q), i)\n"
   ]
  },
  {
   "cell_type": "code",
   "execution_count": null,
   "metadata": {},
   "outputs": [],
   "source": []
  }
 ],
 "metadata": {
  "kernelspec": {
   "display_name": "Python 3",
   "language": "python",
   "name": "python3"
  },
  "language_info": {
   "codemirror_mode": {
    "name": "ipython",
    "version": 3
   },
   "file_extension": ".py",
   "mimetype": "text/x-python",
   "name": "python",
   "nbconvert_exporter": "python",
   "pygments_lexer": "ipython3",
   "version": "3.7.1"
  }
 },
 "nbformat": 4,
 "nbformat_minor": 1
}
